{
 "cells": [
  {
   "cell_type": "code",
   "execution_count": 1,
   "metadata": {},
   "outputs": [],
   "source": [
    "import pandas as pd\n",
    "from datetime import datetime, timedelta\n",
    "import matplotlib.pyplot as plt\n",
    "import glob\n",
    "import moviepy.editor as mpy\n",
    "\n",
    "# Section 2 - Loading Data into Dataframes\n",
    "df = pd.read_csv('https://raw.githubusercontent.com/nytimes/covid-19-data/master/us-states.csv', parse_dates=['date'])\n",
    "populations = pd.read_csv('http://www2.census.gov/programs-surveys/popest/datasets/2010-2019/national/totals/nst-est2019-alldata.csv?#', usecols=['NAME', 'POPESTIMATE2019'])\n",
    "\n",
    "# Section 3 - Merging in Population Data & Calculating Rates\n",
    "df = pd.merge(df, populations, how = 'left', left_on = 'state', right_on = 'NAME')\n",
    "df['rate'] = df['cases'] / df['POPESTIMATE2019'] * 100000"
   ]
  },
  {
   "cell_type": "code",
   "execution_count": 2,
   "metadata": {},
   "outputs": [],
   "source": [
    "df_today = df[df['date'] == datetime.strftime(datetime.now() - timedelta(1), '%Y-%m-%d')]\n",
    "topfivestates_rate = list(df_today.sort_values(by='rate', ascending=False).head()['state'])\n",
    "topfivestates_rate.append('California')\n",
    "topfivestates_rate.append('Washington')\n",
    "\n",
    "# Section 5 - Filtering our Dataset\n",
    "df = df[df['state'].isin(topfivestates_rate)]\n",
    "df = df[df['date'] >= '2020-03-01']\n",
    "df = df.pivot(index = 'date', columns = 'state', values = 'rate')\n",
    "\n",
    "# Section 6 - Preparing out Dataset for Graphing\n",
    "df = df.reset_index()\n",
    "df = df.reset_index(drop=True)\n",
    "df = df.drop(columns = 'date')"
   ]
  },
  {
   "cell_type": "code",
   "execution_count": null,
   "metadata": {},
   "outputs": [],
   "source": [
    "plt.style.use('fivethirtyeight')\n",
    "length = len(df.index)\n",
    "for i in range(10,length+10):\n",
    "    ax = df.iloc[:i].plot(figsize=(12,8), linewidth=5, color = ['#173F5F', '#20639B', '#2CAEA3', '#F6D55C', '#ED553B', '#B88BAC', '#827498'])\n",
    "    ax.set_xlabel('Days since March 1, 2020')\n",
    "    ax.set_ylabel('# of Cases per 100,000 People')\n",
    "    ax.set_title(\"Cases per 100,000 People\", fontsize = 18)\n",
    "    ax.legend(loc='upper left', frameon=False)\n",
    "    ax.grid(axis='x')\n",
    "    fig = ax.get_figure()\n",
    "    fig.savefig(f\"./pngs/{i}.png\")"
   ]
  },
  {
   "cell_type": "code",
   "execution_count": 5,
   "metadata": {},
   "outputs": [
    {
     "name": "stderr",
     "output_type": "stream",
     "text": [
      "t:   1%|          | 4/683 [00:00<00:19, 34.58it/s, now=None]"
     ]
    },
    {
     "name": "stdout",
     "output_type": "stream",
     "text": [
      "MoviePy - Building file COVID.gif.gif with imageio.\n"
     ]
    },
    {
     "name": "stderr",
     "output_type": "stream",
     "text": []
    }
   ],
   "source": [
    "gif_name = 'COVID.gif'\n",
    "fps = 6\n",
    "file_list = glob.glob('./pngs/*')\n",
    "clip = mpy.ImageSequenceClip(file_list, fps=fps)\n",
    "clip.write_gif('{}.gif'.format(gif_name), fps=fps)"
   ]
  },
  {
   "cell_type": "code",
   "execution_count": null,
   "metadata": {},
   "outputs": [],
   "source": []
  }
 ],
 "metadata": {
  "interpreter": {
   "hash": "078e819792ca5cdae3762db6ba1f302036aec0f1d18acf7453e0ff85755b57b2"
  },
  "kernelspec": {
   "display_name": "Python 3.8.8 64-bit ('base': conda)",
   "language": "python",
   "name": "python3"
  },
  "language_info": {
   "codemirror_mode": {
    "name": "ipython",
    "version": 3
   },
   "file_extension": ".py",
   "mimetype": "text/x-python",
   "name": "python",
   "nbconvert_exporter": "python",
   "pygments_lexer": "ipython3",
   "version": "3.8.8"
  },
  "orig_nbformat": 4
 },
 "nbformat": 4,
 "nbformat_minor": 2
}
